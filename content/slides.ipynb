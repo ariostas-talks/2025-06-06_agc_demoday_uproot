{
 "cells": [
  {
   "cell_type": "markdown",
   "id": "528a875d-bb52-4a34-8fa3-a48c8c19170a",
   "metadata": {
    "editable": true,
    "slideshow": {
     "slide_type": "skip"
    },
    "tags": []
   },
   "source": [
    "<pre> &#8593;&#8593;&#8593;&#8593;&#8593;&#8593;</pre>\n",
    "\n",
    "**To view this notebook as a slideshow click on the deck icon ![deck](https://raw.githubusercontent.com/deathbeds/jupyterlab-deck/main/docs/_static/deck.svg) above.**\n",
    "\n",
    "For a better slideshow experience, set font sizes to 24px by going to Settings -> Fonts -> Code/Content -> Size."
   ]
  },
  {
   "cell_type": "markdown",
   "id": "d21e3400-617c-44d5-b0c5-5f4bbcc1ec6f",
   "metadata": {
    "editable": true,
    "slideshow": {
     "slide_type": "slide"
    },
    "tags": []
   },
   "source": [
    "<center>\n",
    "<h1>RNTuple in Uproot</h1>\n",
    "<h2>Andres Rios-Tascon</h2>\n",
    "<img src=\"images/PU_lockup.png\" style=\"height:50px;\"/>&nbsp&nbsp&nbsp&nbsp&nbsp<img src=\"images/Iris-hep-4-no-long-name.png\" style=\"height:50px;\"/>\n",
    "</center>"
   ]
  },
  {
   "cell_type": "markdown",
   "id": "4f5e138f-91de-418c-94f4-585c53794134",
   "metadata": {
    "editable": true,
    "slideshow": {
     "slide_type": "slide"
    },
    "tags": []
   },
   "source": [
    "## Outline\n",
    "\n",
    "- Introduction and motivation for RNTuple.\n",
    "- Status of RNTuple reading and writing support in Uproot.\n",
    "- Quick demo.\n",
    "- Future work and outlook."
   ]
  },
  {
   "cell_type": "markdown",
   "id": "5c10ee01-4923-47b5-86ad-ddf2372ea3d8",
   "metadata": {
    "editable": true,
    "slideshow": {
     "slide_type": "slide"
    },
    "tags": []
   },
   "source": [
    "## What is RNTuple and why should we care?"
   ]
  },
  {
   "cell_type": "markdown",
   "id": "8e8c0bfa-5061-4498-9318-ece0f6954721",
   "metadata": {
    "editable": true,
    "slideshow": {
     "slide_type": "fragment"
    },
    "tags": []
   },
   "source": [
    "- `RNTuple` is a modern serialization format that will replace `TTree`."
   ]
  },
  {
   "cell_type": "markdown",
   "id": "6df961fe-ccbb-496a-bdc7-5576545951b7",
   "metadata": {
    "editable": true,
    "slideshow": {
     "slide_type": "fragment"
    },
    "tags": []
   },
   "source": [
    "- `TTree` has become outdated and bloated.\n",
    "  - Inefficient storing and reading of nested and/or jagged collections.\n",
    "  - Lots of special cases and hacky implementations.\n",
    "  - Virtually impossible to fully support on `uproot`.\n",
    " \n",
    "<center><img src=\"images/ttree_current_status.svg\" style=\"height:400px;\"/></center>"
   ]
  },
  {
   "cell_type": "markdown",
   "id": "24a51e83-9bba-4ac3-8e9b-295ade290059",
   "metadata": {
    "editable": true,
    "slideshow": {
     "slide_type": "fragment"
    },
    "tags": []
   },
   "source": [
    "- `RNTuple` will bring many improvements.\n",
    "  - Simple and modern design (and has a formal spec).\n",
    "  - Focuses on native data types.\n",
    "  - Columnar layout very similar to `awkward`.\n",
    "  - Much faster performance and designed for parallelization.\n",
    "  - Simpler design should alow for almost 100% support on `uproot`."
   ]
  },
  {
   "attachments": {},
   "cell_type": "markdown",
   "id": "c29309c6-aa86-41df-9448-1867e49358dc",
   "metadata": {
    "editable": true,
    "slideshow": {
     "slide_type": "slide"
    },
    "tags": []
   },
   "source": [
    "## RNTuple performance comparison\n",
    "\n",
    "<br/>\n",
    "<br/>\n",
    "<br/>\n",
    "\n",
    "<center>\n",
    "<img src=\"images/rntuple_comparison.png\" style=\"height:200px;\"/>\n",
    "</center>\n",
    "\n",
    "<br/>\n",
    "<br/>\n",
    "<br/>\n",
    "\n",
    "Image taken from [arXiv:2204.09043](https://arxiv.org/abs/2204.09043)."
   ]
  },
  {
   "cell_type": "markdown",
   "id": "60f77439-594a-4a83-bf10-9f34cd649f03",
   "metadata": {
    "editable": true,
    "slideshow": {
     "slide_type": "slide"
    },
    "tags": []
   },
   "source": [
    "## RNTuple timeline\n",
    "\n",
    "<br/>\n",
    "<br/>\n",
    "<br/>\n",
    "\n",
    "<center>\n",
    "<img src=\"images/rntuple_timeline.png\" style=\"height:100px;\"/>\n",
    "</center>\n",
    "\n",
    "<br/>\n",
    "<br/>\n",
    "<br/>\n",
    "\n",
    "Image taken from <https://doi.org/10.1051/epjconf/202429506020>."
   ]
  },
  {
   "cell_type": "markdown",
   "id": "ca4550b1-2d4d-4101-9e42-152515fc6e57",
   "metadata": {
    "editable": true,
    "slideshow": {
     "slide_type": "fragment"
    },
    "tags": []
   },
   "source": [
    "**Version 1.0.0 of the specification was released at the beginning of the year!** ([pdf here](https://cds.cern.ch/record/2923186/files/CERN-OPEN-2025-001.pdf))\n",
    "\n",
    "<center><img src=\"images/rntuple_v1.png\" style=\"height:400px;\"/></center>"
   ]
  },
  {
   "cell_type": "markdown",
   "id": "2a951aee-4f80-4d42-97e7-70d0d1908725",
   "metadata": {
    "editable": true,
    "slideshow": {
     "slide_type": "fragment"
    },
    "tags": []
   },
   "source": [
    "The specification will continue to be updated to add more features, but we already have a stable binary format that we can start using."
   ]
  },
  {
   "cell_type": "markdown",
   "id": "02feb536-c83e-471b-bec2-9774e251ac01",
   "metadata": {
    "editable": true,
    "slideshow": {
     "slide_type": "slide"
    },
    "tags": []
   },
   "source": [
    "## RNTuple in Uproot"
   ]
  },
  {
   "cell_type": "markdown",
   "id": "e07854ea-98e0-48cf-b935-e04ad966b60a",
   "metadata": {
    "editable": true,
    "slideshow": {
     "slide_type": "fragment"
    },
    "tags": []
   },
   "source": [
    "- Initial implementation was written by Jerry Ling.\n",
    "  - Basic reading support.\n",
    "  - Some scaffolding for writing support."
   ]
  },
  {
   "cell_type": "markdown",
   "id": "c6bc4a27-975f-49b8-b7fa-9cb038b56fd4",
   "metadata": {
    "editable": true,
    "slideshow": {
     "slide_type": "fragment"
    },
    "tags": []
   },
   "source": [
    "- The `RNTuple` spec changed very significantly since Jerry worked on it, which completely broke the existing implementation."
   ]
  },
  {
   "cell_type": "markdown",
   "id": "8fea3f56-e88c-43d3-a2a9-716d935449f4",
   "metadata": {
    "editable": true,
    "slideshow": {
     "slide_type": "fragment"
    },
    "tags": []
   },
   "source": [
    "- We have fixed and reworked the reading functionality, and we have achieved **100%** coverage of the current specification! (to the best of my knowledge)"
   ]
  },
  {
   "cell_type": "markdown",
   "id": "3c06c6d0-d4ad-4c8f-bfeb-f3c5c122f895",
   "metadata": {
    "editable": true,
    "slideshow": {
     "slide_type": "fragment"
    },
    "tags": []
   },
   "source": [
    "- We also already have pretty good writing support."
   ]
  },
  {
   "cell_type": "markdown",
   "id": "8894531b-1c88-4caf-967c-529474c57639",
   "metadata": {
    "editable": true,
    "slideshow": {
     "slide_type": "fragment"
    },
    "tags": []
   },
   "source": [
    "<center><img src=\"images/rntuple_current_status.svg\" style=\"height:400px;\"/></center>"
   ]
  },
  {
   "cell_type": "markdown",
   "id": "07a8d665-ad71-4672-96c5-a563736cce2b",
   "metadata": {
    "editable": true,
    "slideshow": {
     "slide_type": "fragment"
    },
    "tags": []
   },
   "source": [
    "- The current focus is on implementing functionality that exists for `TTree` to ensure a smooth transition."
   ]
  },
  {
   "cell_type": "markdown",
   "id": "bbcccd08-1360-4304-805b-e67628708a8f",
   "metadata": {
    "editable": true,
    "slideshow": {
     "slide_type": "slide"
    },
    "tags": []
   },
   "source": [
    "<center>\n",
    "<h2>Let's look at a concrete example</h2>\n",
    "</center>"
   ]
  },
  {
   "cell_type": "markdown",
   "id": "23b6e45b-34d9-4ad7-adf3-0c6de2473af0",
   "metadata": {
    "editable": true,
    "slideshow": {
     "slide_type": "slide"
    },
    "tags": []
   },
   "source": [
    "## Example RNTuple\n",
    "\n",
    "Let's consider an example<a name=\"cite_ref-1\"></a>[<sup>[1]</sup>](#cite_note-1) where we have the following data:\n",
    "\n",
    "| Trigger (bool) | Missing ET {float, float} | Lepton ids (vector) |\n",
    "| -------------- | ------------------------- | ------------------- |\n",
    "| False          | {et: 79.7, phi: 2.83}     | []                  |\n",
    "| True           | {et: 78, phi: 0.62}       | [11, -11]           |\n",
    "| False          | {et: 10, phi: -2.78}      | [-13, -11]          |\n",
    "| True           | {et: 14.3, phi: 1.31}     | [11, 11, -13]       |\n",
    "| True           | {et: 83.2, phi: 2.76}     | [11]                |\n",
    "\n",
    "<br/>\n",
    "<br/>\n",
    "\n",
    "<a name=\"cite_note-1\"></a>1. [^](#cite_ref-1) This example is based on [this talk](https://indico.cern.ch/event/1222943/) by Jerry Ling."
   ]
  },
  {
   "cell_type": "markdown",
   "id": "1fd0447a-f15f-4a32-b4b6-cb38f5c50c8f",
   "metadata": {
    "editable": true,
    "jp-MarkdownHeadingCollapsed": true,
    "slideshow": {
     "slide_type": "slide"
    },
    "tags": []
   },
   "source": [
    "## Data layout\n",
    "\n",
    "```mermaid\n",
    "flowchart BT\n",
    "    A[\\\"(top level)\"/]\n",
    "    B(\"trig (bool)\") --> A\n",
    "    C(\"met (struct)\") --> A\n",
    "    D(\"lep_pid (std::vector&lt;int&gt;)\") --> A\n",
    "    E[(\"column (data)\")] --> B\n",
    "    F(\"et (float)\") --> C\n",
    "    G(\"phi (float)\") --> C\n",
    "    H[(\"column (data)\")] --> F\n",
    "    I[(\"column (data)\")] --> G\n",
    "    J[(\"column (offset)\")] --> D\n",
    "    K(\"_0 (int)\") --> D\n",
    "    L[(\"column (data)\")] --> K\n",
    "```\n",
    "\n",
    "We will see that this very closely matches the data layout in `awkward`!"
   ]
  },
  {
   "cell_type": "markdown",
   "id": "cbc0f910-ae40-4bbf-8401-299bd300f1bf",
   "metadata": {
    "editable": true,
    "slideshow": {
     "slide_type": "slide"
    },
    "tags": []
   },
   "source": [
    "## ROOT code\n",
    "\n",
    "We can create an RNTuple with this data by using the following ROOT code."
   ]
  },
  {
   "cell_type": "code",
   "execution_count": null,
   "id": "8d59bd69-30e7-4def-aa8e-9de99ce9c601",
   "metadata": {
    "editable": true,
    "slideshow": {
     "slide_type": "fragment"
    },
    "tags": []
   },
   "outputs": [],
   "source": [
    "from IPython.display import Code\n",
    "with open(\"example_rntuple.C\") as f:\n",
    "    code = f.read()\n",
    "Code(code, language='cpp')"
   ]
  },
  {
   "cell_type": "markdown",
   "id": "3d41d262-c9fe-4e21-b689-89ea80ae4ae3",
   "metadata": {
    "editable": true,
    "slideshow": {
     "slide_type": "fragment"
    },
    "tags": []
   },
   "source": [
    " "
   ]
  },
  {
   "cell_type": "markdown",
   "id": "bf939f46-1d2f-4300-bd05-ec77e417d527",
   "metadata": {
    "editable": true,
    "slideshow": {
     "slide_type": "slide"
    },
    "tags": []
   },
   "source": [
    "## Using `uproot` to read this RNTuple"
   ]
  },
  {
   "cell_type": "markdown",
   "id": "4d5c62c5-d4b5-43f3-9566-0f43dc89aa88",
   "metadata": {
    "editable": true,
    "slideshow": {
     "slide_type": "fragment"
    },
    "tags": []
   },
   "source": [
    "As a quick reminder, `uproot` can be installed with `pip install uproot` or `conda install -c conda-forge uproot`."
   ]
  },
  {
   "cell_type": "code",
   "execution_count": null,
   "id": "edf62fd7-ee12-4102-9a8a-64011c517bd4",
   "metadata": {},
   "outputs": [],
   "source": [
    "# Only run this cell if you're using JupyterLite\n",
    "import sys\n",
    "if sys.platform == \"emscripten\":\n",
    "    import awkward_cpp\n",
    "    %pip install awkward==2.7.2\n",
    "    %pip install uproot"
   ]
  },
  {
   "cell_type": "markdown",
   "id": "5ad49b66-1af2-48e8-bca4-0db15655f252",
   "metadata": {
    "editable": true,
    "slideshow": {
     "slide_type": "fragment"
    },
    "tags": []
   },
   "source": [
    "Let's start by importing `uproot`."
   ]
  },
  {
   "cell_type": "code",
   "execution_count": null,
   "id": "e56870fa-97d4-432f-b054-c20a3afd0027",
   "metadata": {
    "editable": true,
    "slideshow": {
     "slide_type": "fragment"
    },
    "tags": []
   },
   "outputs": [],
   "source": [
    "import uproot"
   ]
  },
  {
   "cell_type": "markdown",
   "id": "a91150c3-1baf-4495-8c6e-6305d2fc60ff",
   "metadata": {
    "editable": true,
    "slideshow": {
     "slide_type": "fragment"
    },
    "tags": []
   },
   "source": [
    "Let's now open this example file and see what's inside."
   ]
  },
  {
   "cell_type": "code",
   "execution_count": null,
   "id": "d4435687-086f-499f-9859-8d086dba994f",
   "metadata": {
    "editable": true,
    "slideshow": {
     "slide_type": "fragment"
    },
    "tags": []
   },
   "outputs": [],
   "source": [
    "f = uproot.open(\"data/example_rntuple.root\")\n",
    "f.classnames()"
   ]
  },
  {
   "cell_type": "markdown",
   "id": "d9536b19-664c-4e7b-8831-b2935540bd7b",
   "metadata": {
    "editable": true,
    "slideshow": {
     "slide_type": "fragment"
    },
    "tags": []
   },
   "source": [
    " "
   ]
  },
  {
   "cell_type": "markdown",
   "id": "813708a4-7e3a-4fc6-b48b-b2b14a6b5d55",
   "metadata": {
    "editable": true,
    "slideshow": {
     "slide_type": "fragment"
    },
    "tags": []
   },
   "source": [
    "Let's now look at this RNTuple and briefly take a look at the data layout that we discussed before."
   ]
  },
  {
   "cell_type": "code",
   "execution_count": null,
   "id": "4afbf353-7fd4-4818-b4e9-f99dd08f91d6",
   "metadata": {
    "editable": true,
    "slideshow": {
     "slide_type": "fragment"
    },
    "tags": []
   },
   "outputs": [],
   "source": [
    "ntpl = f[\"ntpl\"]"
   ]
  },
  {
   "cell_type": "code",
   "execution_count": null,
   "id": "6120e63b-de4b-4b57-aa5a-4cb793065d3b",
   "metadata": {},
   "outputs": [],
   "source": [
    "ntpl.show()"
   ]
  },
  {
   "cell_type": "code",
   "execution_count": null,
   "id": "192d8755-aa1e-491c-a37f-0617af9a19d9",
   "metadata": {
    "editable": true,
    "slideshow": {
     "slide_type": "fragment"
    },
    "tags": []
   },
   "outputs": [],
   "source": [
    "for i,fr in enumerate(ntpl.field_records):\n",
    "    print(f\"field_name={fr.field_name:<7} type_name={fr.type_name:<25} idx={i} parent_idx={fr.parent_field_id}\")"
   ]
  },
  {
   "cell_type": "markdown",
   "id": "7b79c3a0-acda-4f9c-9716-8f8f01ddc6a1",
   "metadata": {
    "editable": true,
    "slideshow": {
     "slide_type": "fragment"
    },
    "tags": []
   },
   "source": [
    " "
   ]
  },
  {
   "cell_type": "code",
   "execution_count": null,
   "id": "eeb967ed-70ee-4529-adbe-fc4c77592b0a",
   "metadata": {
    "editable": true,
    "slideshow": {
     "slide_type": "fragment"
    },
    "tags": []
   },
   "outputs": [],
   "source": [
    "for cr in ntpl.column_records:\n",
    "    print(f\"idx={cr.idx}, field_id={cr.field_id}, type={cr.type:0>2}, nbits={cr.nbits:0>2}\")"
   ]
  },
  {
   "cell_type": "markdown",
   "id": "147d8130-0320-4812-9844-2f462e3d18f1",
   "metadata": {
    "editable": true,
    "slideshow": {
     "slide_type": "fragment"
    },
    "tags": []
   },
   "source": [
    " "
   ]
  },
  {
   "cell_type": "markdown",
   "id": "65711d31-0bb2-466a-b986-21fd7ca7ae40",
   "metadata": {
    "editable": true,
    "slideshow": {
     "slide_type": "slide"
    },
    "tags": []
   },
   "source": [
    "### Let's now actually read the data and put it into arrays!"
   ]
  },
  {
   "cell_type": "code",
   "execution_count": null,
   "id": "62d66768-80bf-4869-bd20-ffda769b7c1d",
   "metadata": {
    "editable": true,
    "slideshow": {
     "slide_type": ""
    },
    "tags": []
   },
   "outputs": [],
   "source": [
    "arrays = ntpl.arrays()\n",
    "arrays"
   ]
  },
  {
   "cell_type": "markdown",
   "id": "d97fbaae-5c92-49ce-a99d-1b0d65005c1e",
   "metadata": {
    "editable": true,
    "slideshow": {
     "slide_type": "fragment"
    },
    "tags": []
   },
   "source": [
    " "
   ]
  },
  {
   "cell_type": "markdown",
   "id": "a7b3842f-7d42-4a81-9dc5-399d288c3ab1",
   "metadata": {
    "editable": true,
    "slideshow": {
     "slide_type": "fragment"
    },
    "tags": []
   },
   "source": [
    "Now everything works in the usual `awkward` fashion."
   ]
  },
  {
   "cell_type": "code",
   "execution_count": null,
   "id": "a9f65fa8-1dfa-4838-b966-f29891750227",
   "metadata": {
    "editable": true,
    "slideshow": {
     "slide_type": "fragment"
    },
    "tags": []
   },
   "outputs": [],
   "source": [
    "arrays.lep_pid"
   ]
  },
  {
   "cell_type": "markdown",
   "id": "d22a4cbd-2e8c-4e12-ad75-8d34b575e799",
   "metadata": {
    "editable": true,
    "slideshow": {
     "slide_type": "fragment"
    },
    "tags": []
   },
   "source": [
    " "
   ]
  },
  {
   "cell_type": "markdown",
   "id": "16847a9c-3f5f-4bf4-8083-a88fdb84f281",
   "metadata": {
    "editable": true,
    "slideshow": {
     "slide_type": "slide"
    },
    "tags": []
   },
   "source": [
    "### We can already ready complex files\n",
    "\n",
    "Here is an example of a file produced by an ATLAS workflow."
   ]
  },
  {
   "cell_type": "code",
   "execution_count": null,
   "id": "ab612549-80ce-4c40-88e0-f5fd390c273d",
   "metadata": {
    "editable": true,
    "slideshow": {
     "slide_type": "fragment"
    },
    "tags": []
   },
   "outputs": [],
   "source": [
    "filename = \"data/uproot-physlite-rntuple_v1-0-0-0.root\"\n",
    "\n",
    "f = uproot.open(filename)"
   ]
  },
  {
   "cell_type": "code",
   "execution_count": null,
   "id": "cfa0bc0d-7678-4127-8fdb-155f07b841d8",
   "metadata": {
    "editable": true,
    "slideshow": {
     "slide_type": "fragment"
    },
    "tags": []
   },
   "outputs": [],
   "source": [
    "f.classnames()"
   ]
  },
  {
   "cell_type": "code",
   "execution_count": null,
   "id": "7eb08e6c-ec1e-4de0-a92f-e61dd1758f8c",
   "metadata": {
    "editable": true,
    "slideshow": {
     "slide_type": "fragment"
    },
    "tags": []
   },
   "outputs": [],
   "source": [
    "ntpl = f[\"EventData\"]\n",
    "ntpl.fields"
   ]
  },
  {
   "cell_type": "code",
   "execution_count": null,
   "id": "0ef8b717-d448-47ba-ba76-535e3cc08b19",
   "metadata": {
    "editable": true,
    "slideshow": {
     "slide_type": ""
    },
    "tags": []
   },
   "outputs": [],
   "source": [
    "arrays = ntpl.arrays(filter_name=\"AnalysisSiHitElectronsAuxDyn*\")\n",
    "arrays"
   ]
  },
  {
   "cell_type": "markdown",
   "id": "d6f4049b-3311-443b-b873-93d2b650d41a",
   "metadata": {
    "editable": true,
    "slideshow": {
     "slide_type": "skip"
    },
    "tags": []
   },
   "source": [
    " "
   ]
  },
  {
   "cell_type": "markdown",
   "id": "f19a60bb-392a-414d-82ff-db1e5751a5d0",
   "metadata": {
    "editable": true,
    "slideshow": {
     "slide_type": "slide"
    },
    "tags": []
   },
   "source": [
    "Since we already can read 100% of the spec, we can handle advanced features such as:\n",
    "\n",
    "- Schema evolution (i.e. fields and columns that were added after some data was already written)\n",
    "- Multiple representations (i.e. columns that over the course of writing change data types)\n",
    "- Variable-length floating points (i.e. truncated or quantized floats used to save memory)"
   ]
  },
  {
   "cell_type": "markdown",
   "id": "3a3f9ba9-0744-4d4d-b2a9-6206e69be2e6",
   "metadata": {
    "editable": true,
    "slideshow": {
     "slide_type": "slide"
    },
    "tags": []
   },
   "source": [
    "### Writing support is also in good shape"
   ]
  },
  {
   "cell_type": "code",
   "execution_count": null,
   "id": "3c7de07e-2d8d-467e-a9f7-ce85c81365a0",
   "metadata": {
    "editable": true,
    "slideshow": {
     "slide_type": ""
    },
    "tags": []
   },
   "outputs": [],
   "source": [
    "import awkward as ak\n",
    "import numpy as np\n",
    "\n",
    "data = ak.Array(\n",
    "    {\n",
    "        \"bool\": [True, False, True],\n",
    "        \"int\": [1, 2, 3],\n",
    "        \"float\": [1.1, 2.2, 3.3],\n",
    "        \"jagged_list\": [[1], [2, 3], [4, 5, 6]],\n",
    "        \"nested_list\": [[[1], []], [[2], [3, 3]], [[4, 5, 6]]],\n",
    "        \"string\": [\"one\", \"two\", \"three\"],\n",
    "        \"utf8_string\": [\"こんにちは\", \"⚛️💫🎆😀\", \"ǧ̸̛̫͍̰͖̟̈͛͑͆̆̌̃̉̅̄̔̈́̀̔͆̄͋̍͐͂̎͗̈́͒͘͝ͅö̴̮̝̪̬͎͚̜̖̜͖̞̤͕̙͂̀̀̊͛͑̈́͛͐͊͂͂̇͛̾̔͐͆͑͂̓̅̀͘͘͘̕͝͠͝͝ơ̶͍̙̻̾̈́̓̈́̀̅͑ḑ̷͚̠̹̗͉͙̞͇͕̼̲̥͉̯̞͕̲̻̞͗̓̃̊̅͗͊͊́̑̈́̎͋̇̓͛̅͜͜͠͝ͅb̷̢̢̨̨̛̛̘̠̞̰̺̘̰̖̺̞̱͇̰̙̲̱̪͕͎͉̖̞͇̹̮͙͋̀͑͂̈́̇͛̐͊̀̇͆̓̋̀̿̋̂̅̀̌̑̓̽͊̂͑̈̇̚͜͝y̶̗͇̠̞͚̦̮̦͈̹̥̋̓̓̈́̐̆̀̄̋̂̀̇͋̎̚͜͝ȩ̷̢̡͇̮̩̹̥̬̰͎͔̬̩̰̯͍̲͎̭͉̬̣̻̖͍̥̟̪͕̫̟̋̔̀͆̑̈́̐̃͐͌̍͒̔̈́̃̈́̐̔̾͊̿̓͆͑̚͜͝͝͝ͅ\"],\n",
    "        \"regular\": ak.Array(\n",
    "            ak.contents.RegularArray(\n",
    "                ak.contents.NumpyArray([1, 2, 3, 4, 5, 6, 7, 8, 9]), 3\n",
    "            )\n",
    "        ),\n",
    "        \"numpy_regular\": np.array([[1, 2, 3], [4, 5, 6], [7, 8, 9]]),\n",
    "        \"struct\": [{\"x\": 1, \"y\": 2}, {\"x\": 3, \"y\": 4}, {\"x\": 5, \"y\": 6}],\n",
    "        \"struct_list\": [\n",
    "            [{\"x\": 1}, {\"x\": 2}],\n",
    "            [{\"x\": 3}, {\"x\": 4}],\n",
    "            [{\"x\": 5}, {\"x\": 6}],\n",
    "        ],\n",
    "        \"tuple\": [(1, 2), (3, 4), (5, 6)],\n",
    "        \"tuple_list\": [[(1,), (2,)], [(3,), (4,)], [(5,), (6,)]],\n",
    "        \"optional\": [1, None, 2],\n",
    "        \"union\": [1, 2, \"three\"],\n",
    "        \"optional_union\": [1, None, \"three\"],\n",
    "    }\n",
    ")\n",
    "\n",
    "with uproot.recreate(\"my_file.root\") as file:\n",
    "    obj = file.mkrntuple(\"ntuple\", data)"
   ]
  },
  {
   "cell_type": "code",
   "execution_count": null,
   "id": "b63b5c19-d84f-491a-9622-2d3d5f6fc1f3",
   "metadata": {
    "editable": true,
    "slideshow": {
     "slide_type": "fragment"
    },
    "tags": []
   },
   "outputs": [],
   "source": [
    "f = uproot.open(\"my_file.root\")\n",
    "f.classnames()"
   ]
  },
  {
   "cell_type": "code",
   "execution_count": null,
   "id": "65757acb-1c47-42f4-9198-1a89267b3aa3",
   "metadata": {
    "editable": true,
    "slideshow": {
     "slide_type": "fragment"
    },
    "tags": []
   },
   "outputs": [],
   "source": [
    "ntpl = f[\"ntuple\"]\n",
    "arrays = ntpl.arrays()\n",
    "arrays"
   ]
  },
  {
   "cell_type": "markdown",
   "id": "b5f4cb9f-0efe-4fb8-aab4-5d5cf3fa20a1",
   "metadata": {
    "editable": true,
    "slideshow": {
     "slide_type": "slide"
    },
    "tags": []
   },
   "source": [
    "## Tracking status of RNTuple support in Uproot\n",
    "\n",
    "I opened [this issue](https://github.com/scikit-hep/uproot5/issues/1382) to use it as a central place for everyone to know the current status of RNTuple support. I've been updating it and adding more things there as they come up."
   ]
  },
  {
   "cell_type": "markdown",
   "id": "bc646947-938f-48dd-9225-391a46ba057e",
   "metadata": {
    "editable": true,
    "slideshow": {
     "slide_type": "slide"
    },
    "tags": []
   },
   "source": [
    "## Future work and outlook"
   ]
  },
  {
   "cell_type": "markdown",
   "id": "8d4b457d-adc0-4fbc-89d6-96f0a289f462",
   "metadata": {
    "editable": true,
    "slideshow": {
     "slide_type": "fragment"
    },
    "tags": []
   },
   "source": [
    "- Although `RNTuple` reading and writing are already in good shape, there is still a significant amount of work that needs to be done to get to the level of support offered for `TTree`s."
   ]
  },
  {
   "cell_type": "markdown",
   "id": "8b22f295-f896-4d11-b1c0-54bbf15253e7",
   "metadata": {
    "editable": true,
    "slideshow": {
     "slide_type": "fragment"
    },
    "tags": []
   },
   "source": [
    "- Reading with `Dask` already works at a basic level, but writing with `Dask`, and reading/writing with `coffea` still need to be implemented."
   ]
  },
  {
   "cell_type": "markdown",
   "id": "9275f0ba-5abb-4c78-89b3-b9cc88472478",
   "metadata": {
    "editable": true,
    "slideshow": {
     "slide_type": "fragment"
    },
    "tags": []
   },
   "source": [
    "- `uproot` will become even more useful than it already is, as `RNTuple` becomes the primary data format. Having support for virtually 100% of the `RNTuple` spec means that, in many cases, it can fully replace `ROOT` for reading and writing.\n",
    "\n",
    "<center><img src=\"images/rntuple_goal.svg\" style=\"height:400px;\"/></center>"
   ]
  },
  {
   "cell_type": "code",
   "execution_count": null,
   "id": "17fb3f71-daa6-4aa0-b622-70322c190a1b",
   "metadata": {
    "editable": true,
    "slideshow": {
     "slide_type": ""
    },
    "tags": []
   },
   "outputs": [],
   "source": []
  }
 ],
 "metadata": {
  "kernelspec": {
   "display_name": "Python 3 (ipykernel)",
   "language": "python",
   "name": "python3"
  },
  "language_info": {
   "codemirror_mode": {
    "name": "ipython",
    "version": 3
   },
   "file_extension": ".py",
   "mimetype": "text/x-python",
   "name": "python",
   "nbconvert_exporter": "python",
   "pygments_lexer": "ipython3",
   "version": "3.13.1"
  }
 },
 "nbformat": 4,
 "nbformat_minor": 5
}
